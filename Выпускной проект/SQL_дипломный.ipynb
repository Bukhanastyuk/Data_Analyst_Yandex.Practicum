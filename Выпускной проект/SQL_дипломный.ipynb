{
 "cells": [
  {
   "cell_type": "markdown",
   "metadata": {},
   "source": [
    "# Анализ базы данных приложения для чтения книг.\n",
    "\n",
    "В базе содержится информация о книгах, издательствах, авторах, а также пользовательские обзоры книг.\n",
    "\n",
    "__Цель исследования:__ Сформулировать ценностное предложение для нового продукта.\n",
    "\n",
    "__Описание данных:__\n",
    "- Таблица books\n",
    "Содержит данные о книгах:\n",
    "        book_id — идентификатор книги;\n",
    "        author_id — идентификатор автора;\n",
    "        title — название книги;\n",
    "        num_pages — количество страниц;\n",
    "        publication_date — дата публикации книги;\n",
    "        publisher_id — идентификатор издателя.\n",
    "- Таблица authors\n",
    "Содержит данные об авторах:\n",
    "        author_id — идентификатор автора;\n",
    "        author — имя автора.\n",
    "- Таблица publishers\n",
    "Содержит данные об издательствах:\n",
    "        publisher_id — идентификатор издательства;\n",
    "        publisher — название издательства;\n",
    "- Таблица ratings\n",
    "Содержит данные о пользовательских оценках книг:\n",
    "        rating_id — идентификатор оценки;\n",
    "        book_id — идентификатор книги;\n",
    "        username — имя пользователя, оставившего оценку;\n",
    "        rating — оценка книги.\n",
    "- Таблица reviews\n",
    "Содержит данные о пользовательских обзорах:\n",
    "        review_id — идентификатор обзора;\n",
    "        book_id — идентификатор книги;\n",
    "        username — имя автора обзора;\n",
    "        text — текст обзора.\n",
    "\n"
   ]
  },
  {
   "cell_type": "code",
   "execution_count": 1,
   "metadata": {},
   "outputs": [],
   "source": [
    "# импортируем библиотеки\n",
    "import pandas as pd\n",
    "from sqlalchemy import text, create_engine\n",
    "# устанавливаем параметры\n",
    "db_config = {'user': 'praktikum_student', # имя пользователя\n",
    "'pwd': 'Sdf4$2;d-d30pp', # пароль\n",
    "'host': 'rc1b-wcoijxj3yxfsf3fs.mdb.yandexcloud.net',\n",
    "'port': 6432, # порт подключения\n",
    "'db': 'data-analyst-final-project-db'} # название базы данных\n",
    "connection_string = 'postgresql://{user}:{pwd}@{host}:{port}/{db}'.format(**db_config)\n",
    "# сохраняем коннектор\n",
    "engine = create_engine(connection_string, connect_args={'sslmode':'require'})"
   ]
  },
  {
   "cell_type": "code",
   "execution_count": 2,
   "metadata": {
    "scrolled": true
   },
   "outputs": [
    {
     "data": {
      "text/html": [
       "<div>\n",
       "<style scoped>\n",
       "    .dataframe tbody tr th:only-of-type {\n",
       "        vertical-align: middle;\n",
       "    }\n",
       "\n",
       "    .dataframe tbody tr th {\n",
       "        vertical-align: top;\n",
       "    }\n",
       "\n",
       "    .dataframe thead th {\n",
       "        text-align: right;\n",
       "    }\n",
       "</style>\n",
       "<table border=\"1\" class=\"dataframe\">\n",
       "  <thead>\n",
       "    <tr style=\"text-align: right;\">\n",
       "      <th></th>\n",
       "      <th>author_id</th>\n",
       "      <th>author</th>\n",
       "    </tr>\n",
       "  </thead>\n",
       "  <tbody>\n",
       "    <tr>\n",
       "      <th>0</th>\n",
       "      <td>1</td>\n",
       "      <td>A.S. Byatt</td>\n",
       "    </tr>\n",
       "    <tr>\n",
       "      <th>1</th>\n",
       "      <td>2</td>\n",
       "      <td>Aesop/Laura Harris/Laura Gibbs</td>\n",
       "    </tr>\n",
       "    <tr>\n",
       "      <th>2</th>\n",
       "      <td>3</td>\n",
       "      <td>Agatha Christie</td>\n",
       "    </tr>\n",
       "    <tr>\n",
       "      <th>3</th>\n",
       "      <td>4</td>\n",
       "      <td>Alan Brennert</td>\n",
       "    </tr>\n",
       "    <tr>\n",
       "      <th>4</th>\n",
       "      <td>5</td>\n",
       "      <td>Alan Moore/David   Lloyd</td>\n",
       "    </tr>\n",
       "  </tbody>\n",
       "</table>\n",
       "</div>"
      ],
      "text/plain": [
       "   author_id                          author\n",
       "0          1                      A.S. Byatt\n",
       "1          2  Aesop/Laura Harris/Laura Gibbs\n",
       "2          3                 Agatha Christie\n",
       "3          4                   Alan Brennert\n",
       "4          5        Alan Moore/David   Lloyd"
      ]
     },
     "execution_count": 2,
     "metadata": {},
     "output_type": "execute_result"
    }
   ],
   "source": [
    "# выведем информацию о таблицах\n",
    "# таблица authors\n",
    "query = ''' \n",
    "SELECT *\n",
    "FROM authors\n",
    "LIMIT 5;\n",
    "'''\n",
    "pd.io.sql.read_sql(query, con = engine)"
   ]
  },
  {
   "cell_type": "code",
   "execution_count": 3,
   "metadata": {
    "scrolled": true
   },
   "outputs": [
    {
     "data": {
      "text/html": [
       "<div>\n",
       "<style scoped>\n",
       "    .dataframe tbody tr th:only-of-type {\n",
       "        vertical-align: middle;\n",
       "    }\n",
       "\n",
       "    .dataframe tbody tr th {\n",
       "        vertical-align: top;\n",
       "    }\n",
       "\n",
       "    .dataframe thead th {\n",
       "        text-align: right;\n",
       "    }\n",
       "</style>\n",
       "<table border=\"1\" class=\"dataframe\">\n",
       "  <thead>\n",
       "    <tr style=\"text-align: right;\">\n",
       "      <th></th>\n",
       "      <th>book_id</th>\n",
       "      <th>author_id</th>\n",
       "      <th>title</th>\n",
       "      <th>num_pages</th>\n",
       "      <th>publication_date</th>\n",
       "      <th>publisher_id</th>\n",
       "    </tr>\n",
       "  </thead>\n",
       "  <tbody>\n",
       "    <tr>\n",
       "      <th>0</th>\n",
       "      <td>1</td>\n",
       "      <td>546</td>\n",
       "      <td>'Salem's Lot</td>\n",
       "      <td>594</td>\n",
       "      <td>2005-11-01</td>\n",
       "      <td>93</td>\n",
       "    </tr>\n",
       "    <tr>\n",
       "      <th>1</th>\n",
       "      <td>2</td>\n",
       "      <td>465</td>\n",
       "      <td>1 000 Places to See Before You Die</td>\n",
       "      <td>992</td>\n",
       "      <td>2003-05-22</td>\n",
       "      <td>336</td>\n",
       "    </tr>\n",
       "    <tr>\n",
       "      <th>2</th>\n",
       "      <td>3</td>\n",
       "      <td>407</td>\n",
       "      <td>13 Little Blue Envelopes (Little Blue Envelope...</td>\n",
       "      <td>322</td>\n",
       "      <td>2010-12-21</td>\n",
       "      <td>135</td>\n",
       "    </tr>\n",
       "    <tr>\n",
       "      <th>3</th>\n",
       "      <td>4</td>\n",
       "      <td>82</td>\n",
       "      <td>1491: New Revelations of the Americas Before C...</td>\n",
       "      <td>541</td>\n",
       "      <td>2006-10-10</td>\n",
       "      <td>309</td>\n",
       "    </tr>\n",
       "    <tr>\n",
       "      <th>4</th>\n",
       "      <td>5</td>\n",
       "      <td>125</td>\n",
       "      <td>1776</td>\n",
       "      <td>386</td>\n",
       "      <td>2006-07-04</td>\n",
       "      <td>268</td>\n",
       "    </tr>\n",
       "  </tbody>\n",
       "</table>\n",
       "</div>"
      ],
      "text/plain": [
       "   book_id  author_id                                              title  \\\n",
       "0        1        546                                       'Salem's Lot   \n",
       "1        2        465                 1 000 Places to See Before You Die   \n",
       "2        3        407  13 Little Blue Envelopes (Little Blue Envelope...   \n",
       "3        4         82  1491: New Revelations of the Americas Before C...   \n",
       "4        5        125                                               1776   \n",
       "\n",
       "   num_pages publication_date  publisher_id  \n",
       "0        594       2005-11-01            93  \n",
       "1        992       2003-05-22           336  \n",
       "2        322       2010-12-21           135  \n",
       "3        541       2006-10-10           309  \n",
       "4        386       2006-07-04           268  "
      ]
     },
     "execution_count": 3,
     "metadata": {},
     "output_type": "execute_result"
    }
   ],
   "source": [
    "# таблица books\n",
    "query = ''' \n",
    "SELECT *\n",
    "FROM books\n",
    "LIMIT 5;\n",
    "'''\n",
    "pd.io.sql.read_sql(query, con = engine)"
   ]
  },
  {
   "cell_type": "code",
   "execution_count": 4,
   "metadata": {
    "scrolled": true
   },
   "outputs": [
    {
     "data": {
      "text/html": [
       "<div>\n",
       "<style scoped>\n",
       "    .dataframe tbody tr th:only-of-type {\n",
       "        vertical-align: middle;\n",
       "    }\n",
       "\n",
       "    .dataframe tbody tr th {\n",
       "        vertical-align: top;\n",
       "    }\n",
       "\n",
       "    .dataframe thead th {\n",
       "        text-align: right;\n",
       "    }\n",
       "</style>\n",
       "<table border=\"1\" class=\"dataframe\">\n",
       "  <thead>\n",
       "    <tr style=\"text-align: right;\">\n",
       "      <th></th>\n",
       "      <th>publisher_id</th>\n",
       "      <th>publisher</th>\n",
       "    </tr>\n",
       "  </thead>\n",
       "  <tbody>\n",
       "    <tr>\n",
       "      <th>0</th>\n",
       "      <td>1</td>\n",
       "      <td>Ace</td>\n",
       "    </tr>\n",
       "    <tr>\n",
       "      <th>1</th>\n",
       "      <td>2</td>\n",
       "      <td>Ace Book</td>\n",
       "    </tr>\n",
       "    <tr>\n",
       "      <th>2</th>\n",
       "      <td>3</td>\n",
       "      <td>Ace Books</td>\n",
       "    </tr>\n",
       "    <tr>\n",
       "      <th>3</th>\n",
       "      <td>4</td>\n",
       "      <td>Ace Hardcover</td>\n",
       "    </tr>\n",
       "    <tr>\n",
       "      <th>4</th>\n",
       "      <td>5</td>\n",
       "      <td>Addison Wesley Publishing Company</td>\n",
       "    </tr>\n",
       "  </tbody>\n",
       "</table>\n",
       "</div>"
      ],
      "text/plain": [
       "   publisher_id                          publisher\n",
       "0             1                                Ace\n",
       "1             2                           Ace Book\n",
       "2             3                          Ace Books\n",
       "3             4                      Ace Hardcover\n",
       "4             5  Addison Wesley Publishing Company"
      ]
     },
     "execution_count": 4,
     "metadata": {},
     "output_type": "execute_result"
    }
   ],
   "source": [
    "# таблица publishers\n",
    "query = ''' \n",
    "SELECT *\n",
    "FROM publishers\n",
    "LIMIT 5;\n",
    "'''\n",
    "pd.io.sql.read_sql(query, con = engine)"
   ]
  },
  {
   "cell_type": "code",
   "execution_count": 5,
   "metadata": {
    "scrolled": true
   },
   "outputs": [
    {
     "data": {
      "text/html": [
       "<div>\n",
       "<style scoped>\n",
       "    .dataframe tbody tr th:only-of-type {\n",
       "        vertical-align: middle;\n",
       "    }\n",
       "\n",
       "    .dataframe tbody tr th {\n",
       "        vertical-align: top;\n",
       "    }\n",
       "\n",
       "    .dataframe thead th {\n",
       "        text-align: right;\n",
       "    }\n",
       "</style>\n",
       "<table border=\"1\" class=\"dataframe\">\n",
       "  <thead>\n",
       "    <tr style=\"text-align: right;\">\n",
       "      <th></th>\n",
       "      <th>rating_id</th>\n",
       "      <th>book_id</th>\n",
       "      <th>username</th>\n",
       "      <th>rating</th>\n",
       "    </tr>\n",
       "  </thead>\n",
       "  <tbody>\n",
       "    <tr>\n",
       "      <th>0</th>\n",
       "      <td>1</td>\n",
       "      <td>1</td>\n",
       "      <td>ryanfranco</td>\n",
       "      <td>4</td>\n",
       "    </tr>\n",
       "    <tr>\n",
       "      <th>1</th>\n",
       "      <td>2</td>\n",
       "      <td>1</td>\n",
       "      <td>grantpatricia</td>\n",
       "      <td>2</td>\n",
       "    </tr>\n",
       "    <tr>\n",
       "      <th>2</th>\n",
       "      <td>3</td>\n",
       "      <td>1</td>\n",
       "      <td>brandtandrea</td>\n",
       "      <td>5</td>\n",
       "    </tr>\n",
       "    <tr>\n",
       "      <th>3</th>\n",
       "      <td>4</td>\n",
       "      <td>2</td>\n",
       "      <td>lorichen</td>\n",
       "      <td>3</td>\n",
       "    </tr>\n",
       "    <tr>\n",
       "      <th>4</th>\n",
       "      <td>5</td>\n",
       "      <td>2</td>\n",
       "      <td>mariokeller</td>\n",
       "      <td>2</td>\n",
       "    </tr>\n",
       "  </tbody>\n",
       "</table>\n",
       "</div>"
      ],
      "text/plain": [
       "   rating_id  book_id       username  rating\n",
       "0          1        1     ryanfranco       4\n",
       "1          2        1  grantpatricia       2\n",
       "2          3        1   brandtandrea       5\n",
       "3          4        2       lorichen       3\n",
       "4          5        2    mariokeller       2"
      ]
     },
     "execution_count": 5,
     "metadata": {},
     "output_type": "execute_result"
    }
   ],
   "source": [
    "# таблица ratings\n",
    "query = ''' \n",
    "SELECT *\n",
    "FROM ratings\n",
    "LIMIT 5;\n",
    "'''\n",
    "pd.io.sql.read_sql(query, con = engine)"
   ]
  },
  {
   "cell_type": "code",
   "execution_count": 6,
   "metadata": {
    "scrolled": true
   },
   "outputs": [
    {
     "data": {
      "text/html": [
       "<div>\n",
       "<style scoped>\n",
       "    .dataframe tbody tr th:only-of-type {\n",
       "        vertical-align: middle;\n",
       "    }\n",
       "\n",
       "    .dataframe tbody tr th {\n",
       "        vertical-align: top;\n",
       "    }\n",
       "\n",
       "    .dataframe thead th {\n",
       "        text-align: right;\n",
       "    }\n",
       "</style>\n",
       "<table border=\"1\" class=\"dataframe\">\n",
       "  <thead>\n",
       "    <tr style=\"text-align: right;\">\n",
       "      <th></th>\n",
       "      <th>review_id</th>\n",
       "      <th>book_id</th>\n",
       "      <th>username</th>\n",
       "      <th>text</th>\n",
       "    </tr>\n",
       "  </thead>\n",
       "  <tbody>\n",
       "    <tr>\n",
       "      <th>0</th>\n",
       "      <td>1</td>\n",
       "      <td>1</td>\n",
       "      <td>brandtandrea</td>\n",
       "      <td>Mention society tell send professor analysis. ...</td>\n",
       "    </tr>\n",
       "    <tr>\n",
       "      <th>1</th>\n",
       "      <td>2</td>\n",
       "      <td>1</td>\n",
       "      <td>ryanfranco</td>\n",
       "      <td>Foot glass pretty audience hit themselves. Amo...</td>\n",
       "    </tr>\n",
       "    <tr>\n",
       "      <th>2</th>\n",
       "      <td>3</td>\n",
       "      <td>2</td>\n",
       "      <td>lorichen</td>\n",
       "      <td>Listen treat keep worry. Miss husband tax but ...</td>\n",
       "    </tr>\n",
       "    <tr>\n",
       "      <th>3</th>\n",
       "      <td>4</td>\n",
       "      <td>3</td>\n",
       "      <td>johnsonamanda</td>\n",
       "      <td>Finally month interesting blue could nature cu...</td>\n",
       "    </tr>\n",
       "    <tr>\n",
       "      <th>4</th>\n",
       "      <td>5</td>\n",
       "      <td>3</td>\n",
       "      <td>scotttamara</td>\n",
       "      <td>Nation purpose heavy give wait song will. List...</td>\n",
       "    </tr>\n",
       "  </tbody>\n",
       "</table>\n",
       "</div>"
      ],
      "text/plain": [
       "   review_id  book_id       username  \\\n",
       "0          1        1   brandtandrea   \n",
       "1          2        1     ryanfranco   \n",
       "2          3        2       lorichen   \n",
       "3          4        3  johnsonamanda   \n",
       "4          5        3    scotttamara   \n",
       "\n",
       "                                                text  \n",
       "0  Mention society tell send professor analysis. ...  \n",
       "1  Foot glass pretty audience hit themselves. Amo...  \n",
       "2  Listen treat keep worry. Miss husband tax but ...  \n",
       "3  Finally month interesting blue could nature cu...  \n",
       "4  Nation purpose heavy give wait song will. List...  "
      ]
     },
     "execution_count": 6,
     "metadata": {},
     "output_type": "execute_result"
    }
   ],
   "source": [
    "# таблица reviews\n",
    "query = ''' \n",
    "SELECT *\n",
    "FROM reviews\n",
    "LIMIT 5;\n",
    "'''\n",
    "pd.io.sql.read_sql(query, con = engine)"
   ]
  },
  {
   "cell_type": "markdown",
   "metadata": {},
   "source": [
    "### 1.\tПосчитайте, сколько книг вышло после 1 января 2000 года"
   ]
  },
  {
   "cell_type": "code",
   "execution_count": 7,
   "metadata": {
    "scrolled": true
   },
   "outputs": [
    {
     "data": {
      "text/html": [
       "<div>\n",
       "<style scoped>\n",
       "    .dataframe tbody tr th:only-of-type {\n",
       "        vertical-align: middle;\n",
       "    }\n",
       "\n",
       "    .dataframe tbody tr th {\n",
       "        vertical-align: top;\n",
       "    }\n",
       "\n",
       "    .dataframe thead th {\n",
       "        text-align: right;\n",
       "    }\n",
       "</style>\n",
       "<table border=\"1\" class=\"dataframe\">\n",
       "  <thead>\n",
       "    <tr style=\"text-align: right;\">\n",
       "      <th></th>\n",
       "      <th>count</th>\n",
       "    </tr>\n",
       "  </thead>\n",
       "  <tbody>\n",
       "    <tr>\n",
       "      <th>0</th>\n",
       "      <td>819</td>\n",
       "    </tr>\n",
       "  </tbody>\n",
       "</table>\n",
       "</div>"
      ],
      "text/plain": [
       "   count\n",
       "0    819"
      ]
     },
     "execution_count": 7,
     "metadata": {},
     "output_type": "execute_result"
    }
   ],
   "source": [
    "# чтобы выполнить SQL-запрос, используем Pandas\n",
    "query = '''SELECT COUNT(book_id)\n",
    "FROM books\n",
    "WHERE  publication_date > '2000-01-01';\n",
    "'''\n",
    "con=engine.connect()\n",
    "pd.io.sql.read_sql(sql=text(query), con = con)"
   ]
  },
  {
   "cell_type": "markdown",
   "metadata": {},
   "source": [
    "- Всего после 01.01.2000г. вышло 819 книг."
   ]
  },
  {
   "cell_type": "markdown",
   "metadata": {},
   "source": [
    "### 2.\tДля каждой книги посчитайте количество обзоров и среднюю оценку"
   ]
  },
  {
   "cell_type": "code",
   "execution_count": 8,
   "metadata": {
    "scrolled": false
   },
   "outputs": [
    {
     "data": {
      "text/html": [
       "<div>\n",
       "<style scoped>\n",
       "    .dataframe tbody tr th:only-of-type {\n",
       "        vertical-align: middle;\n",
       "    }\n",
       "\n",
       "    .dataframe tbody tr th {\n",
       "        vertical-align: top;\n",
       "    }\n",
       "\n",
       "    .dataframe thead th {\n",
       "        text-align: right;\n",
       "    }\n",
       "</style>\n",
       "<table border=\"1\" class=\"dataframe\">\n",
       "  <thead>\n",
       "    <tr style=\"text-align: right;\">\n",
       "      <th></th>\n",
       "      <th>book_id</th>\n",
       "      <th>title</th>\n",
       "      <th>review_count</th>\n",
       "      <th>avg_rating</th>\n",
       "    </tr>\n",
       "  </thead>\n",
       "  <tbody>\n",
       "    <tr>\n",
       "      <th>0</th>\n",
       "      <td>948</td>\n",
       "      <td>Twilight (Twilight  #1)</td>\n",
       "      <td>7</td>\n",
       "      <td>3.662500</td>\n",
       "    </tr>\n",
       "    <tr>\n",
       "      <th>1</th>\n",
       "      <td>302</td>\n",
       "      <td>Harry Potter and the Prisoner of Azkaban (Harr...</td>\n",
       "      <td>6</td>\n",
       "      <td>4.414634</td>\n",
       "    </tr>\n",
       "    <tr>\n",
       "      <th>2</th>\n",
       "      <td>299</td>\n",
       "      <td>Harry Potter and the Chamber of Secrets (Harry...</td>\n",
       "      <td>6</td>\n",
       "      <td>4.287500</td>\n",
       "    </tr>\n",
       "    <tr>\n",
       "      <th>3</th>\n",
       "      <td>656</td>\n",
       "      <td>The Book Thief</td>\n",
       "      <td>6</td>\n",
       "      <td>4.264151</td>\n",
       "    </tr>\n",
       "    <tr>\n",
       "      <th>4</th>\n",
       "      <td>734</td>\n",
       "      <td>The Glass Castle</td>\n",
       "      <td>6</td>\n",
       "      <td>4.206897</td>\n",
       "    </tr>\n",
       "    <tr>\n",
       "      <th>5</th>\n",
       "      <td>497</td>\n",
       "      <td>Outlander (Outlander  #1)</td>\n",
       "      <td>6</td>\n",
       "      <td>4.125000</td>\n",
       "    </tr>\n",
       "    <tr>\n",
       "      <th>6</th>\n",
       "      <td>750</td>\n",
       "      <td>The Hobbit  or There and Back Again</td>\n",
       "      <td>6</td>\n",
       "      <td>4.125000</td>\n",
       "    </tr>\n",
       "    <tr>\n",
       "      <th>7</th>\n",
       "      <td>695</td>\n",
       "      <td>The Curious Incident of the Dog in the Night-Time</td>\n",
       "      <td>6</td>\n",
       "      <td>4.081081</td>\n",
       "    </tr>\n",
       "    <tr>\n",
       "      <th>8</th>\n",
       "      <td>779</td>\n",
       "      <td>The Lightning Thief (Percy Jackson and the Oly...</td>\n",
       "      <td>6</td>\n",
       "      <td>4.080645</td>\n",
       "    </tr>\n",
       "    <tr>\n",
       "      <th>9</th>\n",
       "      <td>963</td>\n",
       "      <td>Water for Elephants</td>\n",
       "      <td>6</td>\n",
       "      <td>3.977273</td>\n",
       "    </tr>\n",
       "  </tbody>\n",
       "</table>\n",
       "</div>"
      ],
      "text/plain": [
       "   book_id                                              title  review_count  \\\n",
       "0      948                            Twilight (Twilight  #1)             7   \n",
       "1      302  Harry Potter and the Prisoner of Azkaban (Harr...             6   \n",
       "2      299  Harry Potter and the Chamber of Secrets (Harry...             6   \n",
       "3      656                                     The Book Thief             6   \n",
       "4      734                                   The Glass Castle             6   \n",
       "5      497                          Outlander (Outlander  #1)             6   \n",
       "6      750                The Hobbit  or There and Back Again             6   \n",
       "7      695  The Curious Incident of the Dog in the Night-Time             6   \n",
       "8      779  The Lightning Thief (Percy Jackson and the Oly...             6   \n",
       "9      963                                Water for Elephants             6   \n",
       "\n",
       "   avg_rating  \n",
       "0    3.662500  \n",
       "1    4.414634  \n",
       "2    4.287500  \n",
       "3    4.264151  \n",
       "4    4.206897  \n",
       "5    4.125000  \n",
       "6    4.125000  \n",
       "7    4.081081  \n",
       "8    4.080645  \n",
       "9    3.977273  "
      ]
     },
     "execution_count": 8,
     "metadata": {},
     "output_type": "execute_result"
    }
   ],
   "source": [
    "query = '''SELECT b.book_id,\n",
    "                    b.title,\n",
    "                    COUNT(DISTINCT r.review_id) as review_count,\n",
    "                    AVG(ra.rating) as avg_rating\n",
    "        FROM books as b\n",
    "        LEFT JOIN reviews as r ON b. book_id = r. book_id\n",
    "        LEFT JOIN ratings as ra ON r. book_id = ra.book_id\n",
    "        GROUP BY b.book_id\n",
    "        ORDER BY 3 DESC, 4 DESC\n",
    "        LIMIT 10;\n",
    "'''\n",
    "con=engine.connect()\n",
    "pd.io.sql.read_sql(sql=text(query), con = con)"
   ]
  },
  {
   "cell_type": "markdown",
   "metadata": {},
   "source": [
    "- Самое большое число обзоров у \"Сумерек (часть 1)\" (Twilight (Twilight #1)), тем не менее средний рейнг у них не самый высокий, далее в тройку самых часто комментиуремых книг входят книги о Гарри Поттере: Узник Азкабана и Тайная комната - 2 и 3 место соответственно. Также у эти книги лидируют по сумме средней оценки (рейтинг)."
   ]
  },
  {
   "cell_type": "markdown",
   "metadata": {},
   "source": [
    "### 3.\tОпределите издательство, которое выпустило наибольшее число книг толще 50 страниц — так вы исключите из анализа брошюры"
   ]
  },
  {
   "cell_type": "code",
   "execution_count": 9,
   "metadata": {},
   "outputs": [
    {
     "data": {
      "text/html": [
       "<div>\n",
       "<style scoped>\n",
       "    .dataframe tbody tr th:only-of-type {\n",
       "        vertical-align: middle;\n",
       "    }\n",
       "\n",
       "    .dataframe tbody tr th {\n",
       "        vertical-align: top;\n",
       "    }\n",
       "\n",
       "    .dataframe thead th {\n",
       "        text-align: right;\n",
       "    }\n",
       "</style>\n",
       "<table border=\"1\" class=\"dataframe\">\n",
       "  <thead>\n",
       "    <tr style=\"text-align: right;\">\n",
       "      <th></th>\n",
       "      <th>publisher</th>\n",
       "      <th>count</th>\n",
       "    </tr>\n",
       "  </thead>\n",
       "  <tbody>\n",
       "    <tr>\n",
       "      <th>0</th>\n",
       "      <td>Penguin Books</td>\n",
       "      <td>42</td>\n",
       "    </tr>\n",
       "  </tbody>\n",
       "</table>\n",
       "</div>"
      ],
      "text/plain": [
       "       publisher  count\n",
       "0  Penguin Books     42"
      ]
     },
     "execution_count": 9,
     "metadata": {},
     "output_type": "execute_result"
    }
   ],
   "source": [
    "query = '''SELECT p.publisher, COUNT(b.book_id)\n",
    "FROM publishers as p\n",
    "RIGHT JOIN books as b ON p.publisher_id = b. publisher_id\n",
    "WHERE b.num_pages > 50\n",
    "GROUP BY 1\n",
    "ORDER BY 2 DESC\n",
    "LIMIT 1;\n",
    "'''\n",
    "con=engine.connect()\n",
    "pd.io.sql.read_sql(sql=text(query), con = con)"
   ]
  },
  {
   "cell_type": "markdown",
   "metadata": {},
   "source": [
    "- Наибольшее число книг толщиной более 50 страниц выпустило издательство Penguin Books - 42 книги."
   ]
  },
  {
   "cell_type": "markdown",
   "metadata": {},
   "source": [
    "### 4.\tОпределите автора с самой высокой средней оценкой книг — учитывайте только книги с 50 и более оценками"
   ]
  },
  {
   "cell_type": "code",
   "execution_count": 10,
   "metadata": {
    "scrolled": true
   },
   "outputs": [
    {
     "data": {
      "text/html": [
       "<div>\n",
       "<style scoped>\n",
       "    .dataframe tbody tr th:only-of-type {\n",
       "        vertical-align: middle;\n",
       "    }\n",
       "\n",
       "    .dataframe tbody tr th {\n",
       "        vertical-align: top;\n",
       "    }\n",
       "\n",
       "    .dataframe thead th {\n",
       "        text-align: right;\n",
       "    }\n",
       "</style>\n",
       "<table border=\"1\" class=\"dataframe\">\n",
       "  <thead>\n",
       "    <tr style=\"text-align: right;\">\n",
       "      <th></th>\n",
       "      <th>author</th>\n",
       "      <th>avg_rating</th>\n",
       "    </tr>\n",
       "  </thead>\n",
       "  <tbody>\n",
       "    <tr>\n",
       "      <th>0</th>\n",
       "      <td>J.K. Rowling/Mary GrandPré</td>\n",
       "      <td>4.283844</td>\n",
       "    </tr>\n",
       "  </tbody>\n",
       "</table>\n",
       "</div>"
      ],
      "text/plain": [
       "                       author  avg_rating\n",
       "0  J.K. Rowling/Mary GrandPré    4.283844"
      ]
     },
     "execution_count": 10,
     "metadata": {},
     "output_type": "execute_result"
    }
   ],
   "source": [
    "query = '''WITH temp as\n",
    "(SELECT b.author_id, COUNT(b.book_id) as book_count, AVG(r.rating) as avg_rating\n",
    "FROM books as b\n",
    "JOIN ratings as r ON b. book_id = r. book_id\n",
    "GROUP BY b.author_id, b.book_id\n",
    "HAVING COUNT(r.rating) >= 50\n",
    "ORDER BY avg(r.rating) DESC)\n",
    "\n",
    "SELECT a.author, AVG(temp.avg_rating) as avg_rating\n",
    "FROM authors as a\n",
    "JOIN temp ON a.author_id = temp.author_id\n",
    "GROUP BY 1\n",
    "LIMIT 1; \n",
    "\n",
    "'''\n",
    "con=engine.connect()\n",
    "pd.io.sql.read_sql(sql=text(query), con = con)"
   ]
  },
  {
   "cell_type": "markdown",
   "metadata": {},
   "source": [
    "- Автор с самой высокой средней оценкой книг - J.K. Rowling/Mary GrandPré со средней оценкой 4,28."
   ]
  },
  {
   "cell_type": "markdown",
   "metadata": {},
   "source": [
    "### 5.\tПосчитайте среднее количество обзоров от пользователей, которые поставили больше 48 оценок"
   ]
  },
  {
   "cell_type": "code",
   "execution_count": 11,
   "metadata": {},
   "outputs": [
    {
     "data": {
      "text/html": [
       "<div>\n",
       "<style scoped>\n",
       "    .dataframe tbody tr th:only-of-type {\n",
       "        vertical-align: middle;\n",
       "    }\n",
       "\n",
       "    .dataframe tbody tr th {\n",
       "        vertical-align: top;\n",
       "    }\n",
       "\n",
       "    .dataframe thead th {\n",
       "        text-align: right;\n",
       "    }\n",
       "</style>\n",
       "<table border=\"1\" class=\"dataframe\">\n",
       "  <thead>\n",
       "    <tr style=\"text-align: right;\">\n",
       "      <th></th>\n",
       "      <th>avg</th>\n",
       "    </tr>\n",
       "  </thead>\n",
       "  <tbody>\n",
       "    <tr>\n",
       "      <th>0</th>\n",
       "      <td>24.0</td>\n",
       "    </tr>\n",
       "  </tbody>\n",
       "</table>\n",
       "</div>"
      ],
      "text/plain": [
       "    avg\n",
       "0  24.0"
      ]
     },
     "execution_count": 11,
     "metadata": {},
     "output_type": "execute_result"
    }
   ],
   "source": [
    "query = '''SELECT AVG(review_count)\n",
    "FROM (\n",
    "SELECT username, COUNT(review_id) as review_count\n",
    "FROM reviews\n",
    "WHERE username IN (SELECT username\n",
    "FROM ratings\n",
    "GROUP BY 1\n",
    "HAVING COUNT(rating_id) > 48) \n",
    "GROUP BY 1) as temp_1\n",
    ";\n",
    "'''\n",
    "con=engine.connect()\n",
    "pd.io.sql.read_sql(sql=text(query), con = con)"
   ]
  },
  {
   "cell_type": "markdown",
   "metadata": {},
   "source": [
    "- Среднее количество обзоров от пользователей, которые поставили больше 48 оценок - 24 штуки."
   ]
  },
  {
   "cell_type": "markdown",
   "metadata": {},
   "source": [
    "__Выводы:__\n",
    "- Всего в базе данные по 819 книгам, вышедшим после 01.01.2000г.\n",
    "- Самое большое число обзоров у \"Сумерек (часть 1)\", тем не менее средний рейнг у них не самый высокий, далее в тройку самых часто комментиуремых книг входят книги о Гарри Поттере: Узник Азкабана и Тайная комната - 2 и 3 место соответственно. Также у эти книги лидируют по сумме средней оценки (рейтинг).\n",
    "- Издательство \"Penguin Books\" выпустило наибольшее количество книг толще 50 страниц - 42 шт.\n",
    "- Автор с самой высокой средней оценкой книг - J.K. Rowling/Mary GrandPré со средней оценкой 4,28.\n",
    "- Среднее количество обзоров от пользователей, которые поставили больше 48 оценок - 24 штуки.\n",
    "\n",
    "    Ожидаемо в топах книг и авторов до сих пор остаются Дж.Роулинг и книги о Гарри Поттере. Похоже читатели в целом чаще предпочитают фэнтези: в топе книг с оценкой выше 4 - Сумерки, Хоббит и приключеняи Перси Джексона.    "
   ]
  }
 ],
 "metadata": {
  "ExecuteTimeLog": [
   {
    "duration": 5526,
    "start_time": "2023-05-30T00:01:38.407Z"
   },
   {
    "duration": 62,
    "start_time": "2023-05-30T00:02:22.191Z"
   },
   {
    "duration": 113,
    "start_time": "2023-05-30T00:02:53.412Z"
   },
   {
    "duration": 21,
    "start_time": "2023-05-30T00:03:11.652Z"
   },
   {
    "duration": 55,
    "start_time": "2023-05-30T00:04:12.548Z"
   },
   {
    "duration": 53,
    "start_time": "2023-05-30T00:06:30.662Z"
   },
   {
    "duration": 54,
    "start_time": "2023-05-30T00:07:14.070Z"
   },
   {
    "duration": 63,
    "start_time": "2023-05-30T00:10:50.416Z"
   },
   {
    "duration": 21,
    "start_time": "2023-05-30T00:11:11.170Z"
   },
   {
    "duration": 29,
    "start_time": "2023-05-30T00:11:49.368Z"
   },
   {
    "duration": 20,
    "start_time": "2023-05-30T00:12:45.870Z"
   },
   {
    "duration": 20,
    "start_time": "2023-05-30T00:14:23.533Z"
   },
   {
    "duration": 39,
    "start_time": "2023-05-30T00:15:37.386Z"
   },
   {
    "duration": 51,
    "start_time": "2023-05-30T00:16:52.958Z"
   },
   {
    "duration": 21,
    "start_time": "2023-05-30T00:17:25.741Z"
   },
   {
    "duration": 15,
    "start_time": "2023-05-30T00:17:50.233Z"
   },
   {
    "duration": 13,
    "start_time": "2023-05-30T00:19:08.941Z"
   },
   {
    "duration": 15,
    "start_time": "2023-05-30T00:27:20.651Z"
   },
   {
    "duration": 11,
    "start_time": "2023-05-30T00:27:50.147Z"
   },
   {
    "duration": 15,
    "start_time": "2023-05-30T00:27:53.957Z"
   },
   {
    "duration": 12,
    "start_time": "2023-05-30T00:28:16.587Z"
   },
   {
    "duration": 13,
    "start_time": "2023-05-30T00:28:44.896Z"
   },
   {
    "duration": 15,
    "start_time": "2023-05-30T00:29:17.829Z"
   },
   {
    "duration": 12532,
    "start_time": "2023-05-30T11:43:51.583Z"
   },
   {
    "duration": 248,
    "start_time": "2023-05-30T11:44:04.117Z"
   },
   {
    "duration": 72,
    "start_time": "2023-05-30T11:44:04.366Z"
   },
   {
    "duration": 69,
    "start_time": "2023-05-30T11:44:04.439Z"
   },
   {
    "duration": 70,
    "start_time": "2023-05-30T11:44:04.510Z"
   },
   {
    "duration": 70,
    "start_time": "2023-05-30T11:44:04.581Z"
   },
   {
    "duration": 37,
    "start_time": "2023-05-30T11:44:04.653Z"
   },
   {
    "duration": 179,
    "start_time": "2023-05-30T11:44:04.691Z"
   },
   {
    "duration": 50,
    "start_time": "2023-05-30T11:44:04.871Z"
   },
   {
    "duration": 53,
    "start_time": "2023-05-30T11:44:04.922Z"
   },
   {
    "duration": 51,
    "start_time": "2023-05-30T11:44:04.976Z"
   },
   {
    "duration": 6156,
    "start_time": "2023-05-30T12:37:14.355Z"
   },
   {
    "duration": 60,
    "start_time": "2023-05-30T12:37:20.513Z"
   },
   {
    "duration": 13,
    "start_time": "2023-05-30T12:37:20.574Z"
   },
   {
    "duration": 26,
    "start_time": "2023-05-30T12:37:20.588Z"
   },
   {
    "duration": 36,
    "start_time": "2023-05-30T12:37:20.616Z"
   },
   {
    "duration": 15,
    "start_time": "2023-05-30T12:37:20.654Z"
   },
   {
    "duration": 25,
    "start_time": "2023-05-30T12:37:20.671Z"
   },
   {
    "duration": 86,
    "start_time": "2023-05-30T12:37:20.698Z"
   },
   {
    "duration": 14,
    "start_time": "2023-05-30T12:37:20.785Z"
   },
   {
    "duration": 47,
    "start_time": "2023-05-30T12:37:20.801Z"
   },
   {
    "duration": 22,
    "start_time": "2023-05-30T12:37:20.850Z"
   },
   {
    "duration": 18,
    "start_time": "2023-05-30T12:37:48.088Z"
   },
   {
    "duration": 36,
    "start_time": "2023-05-30T12:42:22.663Z"
   },
   {
    "duration": 29,
    "start_time": "2023-05-30T12:45:59.308Z"
   },
   {
    "duration": 5445,
    "start_time": "2023-05-30T12:58:30.569Z"
   },
   {
    "duration": 52,
    "start_time": "2023-05-30T12:58:36.018Z"
   },
   {
    "duration": 13,
    "start_time": "2023-05-30T12:58:36.072Z"
   },
   {
    "duration": 14,
    "start_time": "2023-05-30T12:58:36.087Z"
   },
   {
    "duration": 18,
    "start_time": "2023-05-30T12:58:36.104Z"
   },
   {
    "duration": 16,
    "start_time": "2023-05-30T12:58:36.124Z"
   },
   {
    "duration": 9,
    "start_time": "2023-05-30T12:58:36.142Z"
   },
   {
    "duration": 83,
    "start_time": "2023-05-30T12:58:36.153Z"
   },
   {
    "duration": 12,
    "start_time": "2023-05-30T12:58:36.239Z"
   },
   {
    "duration": 16,
    "start_time": "2023-05-30T12:58:36.252Z"
   },
   {
    "duration": 14,
    "start_time": "2023-05-30T12:58:36.270Z"
   }
  ],
  "kernelspec": {
   "display_name": "Python 3 (ipykernel)",
   "language": "python",
   "name": "python3"
  },
  "language_info": {
   "codemirror_mode": {
    "name": "ipython",
    "version": 3
   },
   "file_extension": ".py",
   "mimetype": "text/x-python",
   "name": "python",
   "nbconvert_exporter": "python",
   "pygments_lexer": "ipython3",
   "version": "3.11.4"
  },
  "toc": {
   "base_numbering": 1,
   "nav_menu": {},
   "number_sections": true,
   "sideBar": true,
   "skip_h1_title": true,
   "title_cell": "Table of Contents",
   "title_sidebar": "Contents",
   "toc_cell": false,
   "toc_position": {},
   "toc_section_display": true,
   "toc_window_display": true
  }
 },
 "nbformat": 4,
 "nbformat_minor": 2
}
